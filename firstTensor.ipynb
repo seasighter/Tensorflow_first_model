{
  "nbformat": 4,
  "nbformat_minor": 0,
  "metadata": {
    "colab": {
      "provenance": [],
      "authorship_tag": "ABX9TyOXsk70BALKQ6Cgxi8S6IU5",
      "include_colab_link": true
    },
    "kernelspec": {
      "name": "python3",
      "display_name": "Python 3"
    },
    "language_info": {
      "name": "python"
    }
  },
  "cells": [
    {
      "cell_type": "markdown",
      "metadata": {
        "id": "view-in-github",
        "colab_type": "text"
      },
      "source": [
        "<a href=\"https://colab.research.google.com/github/seasighter/Tensorflow_first_model/blob/main/firstTensor.ipynb\" target=\"_parent\"><img src=\"https://colab.research.google.com/assets/colab-badge.svg\" alt=\"Open In Colab\"/></a>"
      ]
    },
    {
      "cell_type": "code",
      "execution_count": null,
      "metadata": {
        "id": "jufLw1Yc-BgJ"
      },
      "outputs": [],
      "source": [
        "# build first model with tensorflow on deep learning"
      ]
    },
    {
      "cell_type": "code",
      "source": [
        "import tensorflow as tf\n"
      ],
      "metadata": {
        "id": "Q6hypWTL-Gnz"
      },
      "execution_count": null,
      "outputs": []
    },
    {
      "cell_type": "code",
      "source": [
        "# load into the data\n",
        "from sklearn.datasets import load_breast_cancer"
      ],
      "metadata": {
        "id": "Py66bDZX-Rps"
      },
      "execution_count": null,
      "outputs": []
    },
    {
      "cell_type": "code",
      "source": [
        "data= load_breast_cancer()"
      ],
      "metadata": {
        "id": "WtcQu9_Z-hZX"
      },
      "execution_count": null,
      "outputs": []
    },
    {
      "cell_type": "code",
      "source": [
        "data"
      ],
      "metadata": {
        "colab": {
          "base_uri": "https://localhost:8080/"
        },
        "id": "MsN1Lhpo-kR8",
        "outputId": "ffa8540b-d541-4c66-e409-a3d652cf680e"
      },
      "execution_count": null,
      "outputs": [
        {
          "output_type": "execute_result",
          "data": {
            "text/plain": [
              "{'data': array([[1.799e+01, 1.038e+01, 1.228e+02, ..., 2.654e-01, 4.601e-01,\n",
              "         1.189e-01],\n",
              "        [2.057e+01, 1.777e+01, 1.329e+02, ..., 1.860e-01, 2.750e-01,\n",
              "         8.902e-02],\n",
              "        [1.969e+01, 2.125e+01, 1.300e+02, ..., 2.430e-01, 3.613e-01,\n",
              "         8.758e-02],\n",
              "        ...,\n",
              "        [1.660e+01, 2.808e+01, 1.083e+02, ..., 1.418e-01, 2.218e-01,\n",
              "         7.820e-02],\n",
              "        [2.060e+01, 2.933e+01, 1.401e+02, ..., 2.650e-01, 4.087e-01,\n",
              "         1.240e-01],\n",
              "        [7.760e+00, 2.454e+01, 4.792e+01, ..., 0.000e+00, 2.871e-01,\n",
              "         7.039e-02]]),\n",
              " 'target': array([0, 0, 0, 0, 0, 0, 0, 0, 0, 0, 0, 0, 0, 0, 0, 0, 0, 0, 0, 1, 1, 1,\n",
              "        0, 0, 0, 0, 0, 0, 0, 0, 0, 0, 0, 0, 0, 0, 0, 1, 0, 0, 0, 0, 0, 0,\n",
              "        0, 0, 1, 0, 1, 1, 1, 1, 1, 0, 0, 1, 0, 0, 1, 1, 1, 1, 0, 1, 0, 0,\n",
              "        1, 1, 1, 1, 0, 1, 0, 0, 1, 0, 1, 0, 0, 1, 1, 1, 0, 0, 1, 0, 0, 0,\n",
              "        1, 1, 1, 0, 1, 1, 0, 0, 1, 1, 1, 0, 0, 1, 1, 1, 1, 0, 1, 1, 0, 1,\n",
              "        1, 1, 1, 1, 1, 1, 1, 0, 0, 0, 1, 0, 0, 1, 1, 1, 0, 0, 1, 0, 1, 0,\n",
              "        0, 1, 0, 0, 1, 1, 0, 1, 1, 0, 1, 1, 1, 1, 0, 1, 1, 1, 1, 1, 1, 1,\n",
              "        1, 1, 0, 1, 1, 1, 1, 0, 0, 1, 0, 1, 1, 0, 0, 1, 1, 0, 0, 1, 1, 1,\n",
              "        1, 0, 1, 1, 0, 0, 0, 1, 0, 1, 0, 1, 1, 1, 0, 1, 1, 0, 0, 1, 0, 0,\n",
              "        0, 0, 1, 0, 0, 0, 1, 0, 1, 0, 1, 1, 0, 1, 0, 0, 0, 0, 1, 1, 0, 0,\n",
              "        1, 1, 1, 0, 1, 1, 1, 1, 1, 0, 0, 1, 1, 0, 1, 1, 0, 0, 1, 0, 1, 1,\n",
              "        1, 1, 0, 1, 1, 1, 1, 1, 0, 1, 0, 0, 0, 0, 0, 0, 0, 0, 0, 0, 0, 0,\n",
              "        0, 0, 1, 1, 1, 1, 1, 1, 0, 1, 0, 1, 1, 0, 1, 1, 0, 1, 0, 0, 1, 1,\n",
              "        1, 1, 1, 1, 1, 1, 1, 1, 1, 1, 1, 0, 1, 1, 0, 1, 0, 1, 1, 1, 1, 1,\n",
              "        1, 1, 1, 1, 1, 1, 1, 1, 1, 0, 1, 1, 1, 0, 1, 0, 1, 1, 1, 1, 0, 0,\n",
              "        0, 1, 1, 1, 1, 0, 1, 0, 1, 0, 1, 1, 1, 0, 1, 1, 1, 1, 1, 1, 1, 0,\n",
              "        0, 0, 1, 1, 1, 1, 1, 1, 1, 1, 1, 1, 1, 0, 0, 1, 0, 0, 0, 1, 0, 0,\n",
              "        1, 1, 1, 1, 1, 0, 1, 1, 1, 1, 1, 0, 1, 1, 1, 0, 1, 1, 0, 0, 1, 1,\n",
              "        1, 1, 1, 1, 0, 1, 1, 1, 1, 1, 1, 1, 0, 1, 1, 1, 1, 1, 0, 1, 1, 0,\n",
              "        1, 1, 1, 1, 1, 1, 1, 1, 1, 1, 1, 1, 0, 1, 0, 0, 1, 0, 1, 1, 1, 1,\n",
              "        1, 0, 1, 1, 0, 1, 0, 1, 1, 0, 1, 0, 1, 1, 1, 1, 1, 1, 1, 1, 0, 0,\n",
              "        1, 1, 1, 1, 1, 1, 0, 1, 1, 1, 1, 1, 1, 1, 1, 1, 1, 0, 1, 1, 1, 1,\n",
              "        1, 1, 1, 0, 1, 0, 1, 1, 0, 1, 1, 1, 1, 1, 0, 0, 1, 0, 1, 0, 1, 1,\n",
              "        1, 1, 1, 0, 1, 1, 0, 1, 0, 1, 0, 0, 1, 1, 1, 0, 1, 1, 1, 1, 1, 1,\n",
              "        1, 1, 1, 1, 1, 0, 1, 0, 0, 1, 1, 1, 1, 1, 1, 1, 1, 1, 1, 1, 1, 1,\n",
              "        1, 1, 1, 1, 1, 1, 1, 1, 1, 1, 1, 1, 0, 0, 0, 0, 0, 0, 1]),\n",
              " 'frame': None,\n",
              " 'target_names': array(['malignant', 'benign'], dtype='<U9'),\n",
              " 'DESCR': '.. _breast_cancer_dataset:\\n\\nBreast cancer wisconsin (diagnostic) dataset\\n--------------------------------------------\\n\\n**Data Set Characteristics:**\\n\\n    :Number of Instances: 569\\n\\n    :Number of Attributes: 30 numeric, predictive attributes and the class\\n\\n    :Attribute Information:\\n        - radius (mean of distances from center to points on the perimeter)\\n        - texture (standard deviation of gray-scale values)\\n        - perimeter\\n        - area\\n        - smoothness (local variation in radius lengths)\\n        - compactness (perimeter^2 / area - 1.0)\\n        - concavity (severity of concave portions of the contour)\\n        - concave points (number of concave portions of the contour)\\n        - symmetry\\n        - fractal dimension (\"coastline approximation\" - 1)\\n\\n        The mean, standard error, and \"worst\" or largest (mean of the three\\n        worst/largest values) of these features were computed for each image,\\n        resulting in 30 features.  For instance, field 0 is Mean Radius, field\\n        10 is Radius SE, field 20 is Worst Radius.\\n\\n        - class:\\n                - WDBC-Malignant\\n                - WDBC-Benign\\n\\n    :Summary Statistics:\\n\\n    ===================================== ====== ======\\n                                           Min    Max\\n    ===================================== ====== ======\\n    radius (mean):                        6.981  28.11\\n    texture (mean):                       9.71   39.28\\n    perimeter (mean):                     43.79  188.5\\n    area (mean):                          143.5  2501.0\\n    smoothness (mean):                    0.053  0.163\\n    compactness (mean):                   0.019  0.345\\n    concavity (mean):                     0.0    0.427\\n    concave points (mean):                0.0    0.201\\n    symmetry (mean):                      0.106  0.304\\n    fractal dimension (mean):             0.05   0.097\\n    radius (standard error):              0.112  2.873\\n    texture (standard error):             0.36   4.885\\n    perimeter (standard error):           0.757  21.98\\n    area (standard error):                6.802  542.2\\n    smoothness (standard error):          0.002  0.031\\n    compactness (standard error):         0.002  0.135\\n    concavity (standard error):           0.0    0.396\\n    concave points (standard error):      0.0    0.053\\n    symmetry (standard error):            0.008  0.079\\n    fractal dimension (standard error):   0.001  0.03\\n    radius (worst):                       7.93   36.04\\n    texture (worst):                      12.02  49.54\\n    perimeter (worst):                    50.41  251.2\\n    area (worst):                         185.2  4254.0\\n    smoothness (worst):                   0.071  0.223\\n    compactness (worst):                  0.027  1.058\\n    concavity (worst):                    0.0    1.252\\n    concave points (worst):               0.0    0.291\\n    symmetry (worst):                     0.156  0.664\\n    fractal dimension (worst):            0.055  0.208\\n    ===================================== ====== ======\\n\\n    :Missing Attribute Values: None\\n\\n    :Class Distribution: 212 - Malignant, 357 - Benign\\n\\n    :Creator:  Dr. William H. Wolberg, W. Nick Street, Olvi L. Mangasarian\\n\\n    :Donor: Nick Street\\n\\n    :Date: November, 1995\\n\\nThis is a copy of UCI ML Breast Cancer Wisconsin (Diagnostic) datasets.\\nhttps://goo.gl/U2Uwz2\\n\\nFeatures are computed from a digitized image of a fine needle\\naspirate (FNA) of a breast mass.  They describe\\ncharacteristics of the cell nuclei present in the image.\\n\\nSeparating plane described above was obtained using\\nMultisurface Method-Tree (MSM-T) [K. P. Bennett, \"Decision Tree\\nConstruction Via Linear Programming.\" Proceedings of the 4th\\nMidwest Artificial Intelligence and Cognitive Science Society,\\npp. 97-101, 1992], a classification method which uses linear\\nprogramming to construct a decision tree.  Relevant features\\nwere selected using an exhaustive search in the space of 1-4\\nfeatures and 1-3 separating planes.\\n\\nThe actual linear program used to obtain the separating plane\\nin the 3-dimensional space is that described in:\\n[K. P. Bennett and O. L. Mangasarian: \"Robust Linear\\nProgramming Discrimination of Two Linearly Inseparable Sets\",\\nOptimization Methods and Software 1, 1992, 23-34].\\n\\nThis database is also available through the UW CS ftp server:\\n\\nftp ftp.cs.wisc.edu\\ncd math-prog/cpo-dataset/machine-learn/WDBC/\\n\\n.. topic:: References\\n\\n   - W.N. Street, W.H. Wolberg and O.L. Mangasarian. Nuclear feature extraction \\n     for breast tumor diagnosis. IS&T/SPIE 1993 International Symposium on \\n     Electronic Imaging: Science and Technology, volume 1905, pages 861-870,\\n     San Jose, CA, 1993.\\n   - O.L. Mangasarian, W.N. Street and W.H. Wolberg. Breast cancer diagnosis and \\n     prognosis via linear programming. Operations Research, 43(4), pages 570-577, \\n     July-August 1995.\\n   - W.H. Wolberg, W.N. Street, and O.L. Mangasarian. Machine learning techniques\\n     to diagnose breast cancer from fine-needle aspirates. Cancer Letters 77 (1994) \\n     163-171.',\n",
              " 'feature_names': array(['mean radius', 'mean texture', 'mean perimeter', 'mean area',\n",
              "        'mean smoothness', 'mean compactness', 'mean concavity',\n",
              "        'mean concave points', 'mean symmetry', 'mean fractal dimension',\n",
              "        'radius error', 'texture error', 'perimeter error', 'area error',\n",
              "        'smoothness error', 'compactness error', 'concavity error',\n",
              "        'concave points error', 'symmetry error',\n",
              "        'fractal dimension error', 'worst radius', 'worst texture',\n",
              "        'worst perimeter', 'worst area', 'worst smoothness',\n",
              "        'worst compactness', 'worst concavity', 'worst concave points',\n",
              "        'worst symmetry', 'worst fractal dimension'], dtype='<U23'),\n",
              " 'filename': 'breast_cancer.csv',\n",
              " 'data_module': 'sklearn.datasets.data'}"
            ]
          },
          "metadata": {},
          "execution_count": 8
        }
      ]
    },
    {
      "cell_type": "code",
      "source": [
        "type(data)"
      ],
      "metadata": {
        "colab": {
          "base_uri": "https://localhost:8080/"
        },
        "id": "rviOIQLn-mOj",
        "outputId": "700c9b00-59c4-4236-906e-ec20404bf499"
      },
      "execution_count": null,
      "outputs": [
        {
          "output_type": "execute_result",
          "data": {
            "text/plain": [
              "sklearn.utils._bunch.Bunch"
            ]
          },
          "metadata": {},
          "execution_count": 9
        }
      ]
    },
    {
      "cell_type": "code",
      "source": [
        "data.keys()"
      ],
      "metadata": {
        "colab": {
          "base_uri": "https://localhost:8080/"
        },
        "id": "rFS2w1jv_FXp",
        "outputId": "293fbc58-7690-4ac1-90d1-572edf6933c4"
      },
      "execution_count": null,
      "outputs": [
        {
          "output_type": "execute_result",
          "data": {
            "text/plain": [
              "dict_keys(['data', 'target', 'frame', 'target_names', 'DESCR', 'feature_names', 'filename', 'data_module'])"
            ]
          },
          "metadata": {},
          "execution_count": 12
        }
      ]
    },
    {
      "cell_type": "code",
      "source": [
        "data['data'].shape"
      ],
      "metadata": {
        "id": "sM43qDN1_I3i",
        "colab": {
          "base_uri": "https://localhost:8080/"
        },
        "outputId": "e244967e-ed5c-423a-aa75-89ba68f0c004"
      },
      "execution_count": null,
      "outputs": [
        {
          "output_type": "execute_result",
          "data": {
            "text/plain": [
              "(569, 30)"
            ]
          },
          "metadata": {},
          "execution_count": 13
        }
      ]
    },
    {
      "cell_type": "code",
      "source": [
        "data.target"
      ],
      "metadata": {
        "colab": {
          "base_uri": "https://localhost:8080/"
        },
        "id": "NIQ3PeZw_8fU",
        "outputId": "4a829fe1-85bc-44e1-b1a2-8ff77233a2a7"
      },
      "execution_count": null,
      "outputs": [
        {
          "output_type": "execute_result",
          "data": {
            "text/plain": [
              "array([0, 0, 0, 0, 0, 0, 0, 0, 0, 0, 0, 0, 0, 0, 0, 0, 0, 0, 0, 1, 1, 1,\n",
              "       0, 0, 0, 0, 0, 0, 0, 0, 0, 0, 0, 0, 0, 0, 0, 1, 0, 0, 0, 0, 0, 0,\n",
              "       0, 0, 1, 0, 1, 1, 1, 1, 1, 0, 0, 1, 0, 0, 1, 1, 1, 1, 0, 1, 0, 0,\n",
              "       1, 1, 1, 1, 0, 1, 0, 0, 1, 0, 1, 0, 0, 1, 1, 1, 0, 0, 1, 0, 0, 0,\n",
              "       1, 1, 1, 0, 1, 1, 0, 0, 1, 1, 1, 0, 0, 1, 1, 1, 1, 0, 1, 1, 0, 1,\n",
              "       1, 1, 1, 1, 1, 1, 1, 0, 0, 0, 1, 0, 0, 1, 1, 1, 0, 0, 1, 0, 1, 0,\n",
              "       0, 1, 0, 0, 1, 1, 0, 1, 1, 0, 1, 1, 1, 1, 0, 1, 1, 1, 1, 1, 1, 1,\n",
              "       1, 1, 0, 1, 1, 1, 1, 0, 0, 1, 0, 1, 1, 0, 0, 1, 1, 0, 0, 1, 1, 1,\n",
              "       1, 0, 1, 1, 0, 0, 0, 1, 0, 1, 0, 1, 1, 1, 0, 1, 1, 0, 0, 1, 0, 0,\n",
              "       0, 0, 1, 0, 0, 0, 1, 0, 1, 0, 1, 1, 0, 1, 0, 0, 0, 0, 1, 1, 0, 0,\n",
              "       1, 1, 1, 0, 1, 1, 1, 1, 1, 0, 0, 1, 1, 0, 1, 1, 0, 0, 1, 0, 1, 1,\n",
              "       1, 1, 0, 1, 1, 1, 1, 1, 0, 1, 0, 0, 0, 0, 0, 0, 0, 0, 0, 0, 0, 0,\n",
              "       0, 0, 1, 1, 1, 1, 1, 1, 0, 1, 0, 1, 1, 0, 1, 1, 0, 1, 0, 0, 1, 1,\n",
              "       1, 1, 1, 1, 1, 1, 1, 1, 1, 1, 1, 0, 1, 1, 0, 1, 0, 1, 1, 1, 1, 1,\n",
              "       1, 1, 1, 1, 1, 1, 1, 1, 1, 0, 1, 1, 1, 0, 1, 0, 1, 1, 1, 1, 0, 0,\n",
              "       0, 1, 1, 1, 1, 0, 1, 0, 1, 0, 1, 1, 1, 0, 1, 1, 1, 1, 1, 1, 1, 0,\n",
              "       0, 0, 1, 1, 1, 1, 1, 1, 1, 1, 1, 1, 1, 0, 0, 1, 0, 0, 0, 1, 0, 0,\n",
              "       1, 1, 1, 1, 1, 0, 1, 1, 1, 1, 1, 0, 1, 1, 1, 0, 1, 1, 0, 0, 1, 1,\n",
              "       1, 1, 1, 1, 0, 1, 1, 1, 1, 1, 1, 1, 0, 1, 1, 1, 1, 1, 0, 1, 1, 0,\n",
              "       1, 1, 1, 1, 1, 1, 1, 1, 1, 1, 1, 1, 0, 1, 0, 0, 1, 0, 1, 1, 1, 1,\n",
              "       1, 0, 1, 1, 0, 1, 0, 1, 1, 0, 1, 0, 1, 1, 1, 1, 1, 1, 1, 1, 0, 0,\n",
              "       1, 1, 1, 1, 1, 1, 0, 1, 1, 1, 1, 1, 1, 1, 1, 1, 1, 0, 1, 1, 1, 1,\n",
              "       1, 1, 1, 0, 1, 0, 1, 1, 0, 1, 1, 1, 1, 1, 0, 0, 1, 0, 1, 0, 1, 1,\n",
              "       1, 1, 1, 0, 1, 1, 0, 1, 0, 1, 0, 0, 1, 1, 1, 0, 1, 1, 1, 1, 1, 1,\n",
              "       1, 1, 1, 1, 1, 0, 1, 0, 0, 1, 1, 1, 1, 1, 1, 1, 1, 1, 1, 1, 1, 1,\n",
              "       1, 1, 1, 1, 1, 1, 1, 1, 1, 1, 1, 1, 0, 0, 0, 0, 0, 0, 1])"
            ]
          },
          "metadata": {},
          "execution_count": 14
        }
      ]
    },
    {
      "cell_type": "code",
      "source": [
        "# to check what is 0 and what is 1\n",
        "data.target_names"
      ],
      "metadata": {
        "colab": {
          "base_uri": "https://localhost:8080/"
        },
        "id": "wDbsDhsxAp-2",
        "outputId": "23cce3c2-3996-4d03-ed23-0e18b1879aaf"
      },
      "execution_count": null,
      "outputs": [
        {
          "output_type": "execute_result",
          "data": {
            "text/plain": [
              "array(['malignant', 'benign'], dtype='<U9')"
            ]
          },
          "metadata": {},
          "execution_count": 15
        }
      ]
    },
    {
      "cell_type": "code",
      "source": [
        "data.feature_names"
      ],
      "metadata": {
        "colab": {
          "base_uri": "https://localhost:8080/"
        },
        "id": "5lINiH3uAxZ7",
        "outputId": "9c26be23-3d8a-4647-a12a-e8c3a3d7a099"
      },
      "execution_count": null,
      "outputs": [
        {
          "output_type": "execute_result",
          "data": {
            "text/plain": [
              "array(['mean radius', 'mean texture', 'mean perimeter', 'mean area',\n",
              "       'mean smoothness', 'mean compactness', 'mean concavity',\n",
              "       'mean concave points', 'mean symmetry', 'mean fractal dimension',\n",
              "       'radius error', 'texture error', 'perimeter error', 'area error',\n",
              "       'smoothness error', 'compactness error', 'concavity error',\n",
              "       'concave points error', 'symmetry error',\n",
              "       'fractal dimension error', 'worst radius', 'worst texture',\n",
              "       'worst perimeter', 'worst area', 'worst smoothness',\n",
              "       'worst compactness', 'worst concavity', 'worst concave points',\n",
              "       'worst symmetry', 'worst fractal dimension'], dtype='<U23')"
            ]
          },
          "metadata": {},
          "execution_count": 18
        }
      ]
    },
    {
      "cell_type": "code",
      "source": [
        "from sklearn.model_selection import train_test_split"
      ],
      "metadata": {
        "id": "OUd2-1APA9DV"
      },
      "execution_count": null,
      "outputs": []
    },
    {
      "cell_type": "code",
      "source": [
        "#x=data.iloc[:,:29]\n",
        "X_train,X_test,y_train,y_test=train_test_split(data.data,data.target,test_size=0.3)"
      ],
      "metadata": {
        "id": "KW6lPFqxBkw9"
      },
      "execution_count": null,
      "outputs": []
    },
    {
      "cell_type": "code",
      "source": [
        "X_train.shape"
      ],
      "metadata": {
        "colab": {
          "base_uri": "https://localhost:8080/"
        },
        "id": "zR1l4LgjBtpi",
        "outputId": "90707dd3-a73c-4476-d672-86e2b27041f6"
      },
      "execution_count": null,
      "outputs": [
        {
          "output_type": "execute_result",
          "data": {
            "text/plain": [
              "(398, 30)"
            ]
          },
          "metadata": {},
          "execution_count": 25
        }
      ]
    },
    {
      "cell_type": "code",
      "source": [
        "N,D= X_train.shape"
      ],
      "metadata": {
        "id": "8w5We9BpCbnC"
      },
      "execution_count": null,
      "outputs": []
    },
    {
      "cell_type": "code",
      "source": [
        "N,D"
      ],
      "metadata": {
        "colab": {
          "base_uri": "https://localhost:8080/"
        },
        "id": "BS0kLLRXCo5O",
        "outputId": "9b732dd5-b359-4b83-e0b2-fbd628ef26ad"
      },
      "execution_count": null,
      "outputs": [
        {
          "output_type": "execute_result",
          "data": {
            "text/plain": [
              "(398, 30)"
            ]
          },
          "metadata": {},
          "execution_count": 27
        }
      ]
    },
    {
      "cell_type": "code",
      "source": [
        "from sklearn.preprocessing import StandardScaler\n"
      ],
      "metadata": {
        "id": "QUXYVVXNCqgU"
      },
      "execution_count": null,
      "outputs": []
    },
    {
      "cell_type": "code",
      "source": [
        "scaller=StandardScaler()"
      ],
      "metadata": {
        "id": "E4qN1v0IC7fD"
      },
      "execution_count": null,
      "outputs": []
    },
    {
      "cell_type": "code",
      "source": [
        "X_train=scaller.fit_transform(X_train) # we are using fit_transform in X-train only becuz we are that going to normalize the features like mean and standard deviation so that it will work fine for unseen data\n",
        "X_test=scaller.transform(X_test)"
      ],
      "metadata": {
        "id": "ZFS3RlyQGLOV"
      },
      "execution_count": null,
      "outputs": []
    },
    {
      "cell_type": "code",
      "source": [
        "model=tf.keras.Sequential([\n",
        "    tf.keras.layers.Input(shape=(D,)), # we donot use the N becuz model can use any no. of samples\n",
        "    tf.keras.layers.Dense(1,activation='sigmoid')  # only 1 output\n",
        "\n",
        " ])"
      ],
      "metadata": {
        "id": "jy-xwYXwGi4P"
      },
      "execution_count": null,
      "outputs": []
    },
    {
      "cell_type": "code",
      "source": [
        "# Alternative way of creating model\n",
        "# model=tf.keras.Sequential()\n",
        "# model.add(tf.keras.layers.Dense(1,input_shape=(D,), activation='sigmoid'))"
      ],
      "metadata": {
        "id": "TY3nux4sKj4I"
      },
      "execution_count": null,
      "outputs": []
    },
    {
      "cell_type": "code",
      "source": [
        "model.compile(optimizer='adam',\n",
        "              loss='binary_crossentropy',\n",
        "              metrics=['accuracy'])"
      ],
      "metadata": {
        "id": "H-GD5-w7MSZA"
      },
      "execution_count": null,
      "outputs": []
    },
    {
      "cell_type": "code",
      "source": [
        "r=model.fit(X_train,y_train,validation_data=(X_test,y_test),epochs=100)"
      ],
      "metadata": {
        "colab": {
          "base_uri": "https://localhost:8080/"
        },
        "id": "T0A2YjebNHvw",
        "outputId": "be90bebb-f967-49c9-f50b-5946c8589f0b"
      },
      "execution_count": null,
      "outputs": [
        {
          "output_type": "stream",
          "name": "stdout",
          "text": [
            "Epoch 1/100\n",
            "13/13 [==============================] - 1s 16ms/step - loss: 0.6396 - accuracy: 0.6985 - val_loss: 0.6633 - val_accuracy: 0.6959\n",
            "Epoch 2/100\n",
            "13/13 [==============================] - 0s 6ms/step - loss: 0.5881 - accuracy: 0.7362 - val_loss: 0.6177 - val_accuracy: 0.7544\n",
            "Epoch 3/100\n",
            "13/13 [==============================] - 0s 5ms/step - loss: 0.5443 - accuracy: 0.7613 - val_loss: 0.5771 - val_accuracy: 0.7778\n",
            "Epoch 4/100\n",
            "13/13 [==============================] - 0s 5ms/step - loss: 0.5056 - accuracy: 0.7915 - val_loss: 0.5424 - val_accuracy: 0.7895\n",
            "Epoch 5/100\n",
            "13/13 [==============================] - 0s 4ms/step - loss: 0.4726 - accuracy: 0.8141 - val_loss: 0.5114 - val_accuracy: 0.8012\n",
            "Epoch 6/100\n",
            "13/13 [==============================] - 0s 5ms/step - loss: 0.4435 - accuracy: 0.8417 - val_loss: 0.4852 - val_accuracy: 0.8070\n",
            "Epoch 7/100\n",
            "13/13 [==============================] - 0s 5ms/step - loss: 0.4191 - accuracy: 0.8568 - val_loss: 0.4606 - val_accuracy: 0.8129\n",
            "Epoch 8/100\n",
            "13/13 [==============================] - 0s 5ms/step - loss: 0.3954 - accuracy: 0.8643 - val_loss: 0.4397 - val_accuracy: 0.8246\n",
            "Epoch 9/100\n",
            "13/13 [==============================] - 0s 6ms/step - loss: 0.3759 - accuracy: 0.8719 - val_loss: 0.4196 - val_accuracy: 0.8363\n",
            "Epoch 10/100\n",
            "13/13 [==============================] - 0s 5ms/step - loss: 0.3565 - accuracy: 0.8844 - val_loss: 0.4029 - val_accuracy: 0.8421\n",
            "Epoch 11/100\n",
            "13/13 [==============================] - 0s 5ms/step - loss: 0.3403 - accuracy: 0.8970 - val_loss: 0.3866 - val_accuracy: 0.8421\n",
            "Epoch 12/100\n",
            "13/13 [==============================] - 0s 5ms/step - loss: 0.3243 - accuracy: 0.9045 - val_loss: 0.3723 - val_accuracy: 0.8480\n",
            "Epoch 13/100\n",
            "13/13 [==============================] - 0s 5ms/step - loss: 0.3108 - accuracy: 0.9070 - val_loss: 0.3582 - val_accuracy: 0.8538\n",
            "Epoch 14/100\n",
            "13/13 [==============================] - 0s 4ms/step - loss: 0.2970 - accuracy: 0.9095 - val_loss: 0.3460 - val_accuracy: 0.8596\n",
            "Epoch 15/100\n",
            "13/13 [==============================] - 0s 4ms/step - loss: 0.2854 - accuracy: 0.9171 - val_loss: 0.3342 - val_accuracy: 0.8596\n",
            "Epoch 16/100\n",
            "13/13 [==============================] - 0s 6ms/step - loss: 0.2740 - accuracy: 0.9246 - val_loss: 0.3235 - val_accuracy: 0.8713\n",
            "Epoch 17/100\n",
            "13/13 [==============================] - 0s 5ms/step - loss: 0.2643 - accuracy: 0.9296 - val_loss: 0.3129 - val_accuracy: 0.8713\n",
            "Epoch 18/100\n",
            "13/13 [==============================] - 0s 5ms/step - loss: 0.2543 - accuracy: 0.9372 - val_loss: 0.3040 - val_accuracy: 0.8713\n",
            "Epoch 19/100\n",
            "13/13 [==============================] - 0s 5ms/step - loss: 0.2461 - accuracy: 0.9372 - val_loss: 0.2946 - val_accuracy: 0.8772\n",
            "Epoch 20/100\n",
            "13/13 [==============================] - 0s 5ms/step - loss: 0.2375 - accuracy: 0.9372 - val_loss: 0.2867 - val_accuracy: 0.8830\n",
            "Epoch 21/100\n",
            "13/13 [==============================] - 0s 5ms/step - loss: 0.2298 - accuracy: 0.9372 - val_loss: 0.2789 - val_accuracy: 0.8947\n",
            "Epoch 22/100\n",
            "13/13 [==============================] - 0s 6ms/step - loss: 0.2230 - accuracy: 0.9422 - val_loss: 0.2708 - val_accuracy: 0.8947\n",
            "Epoch 23/100\n",
            "13/13 [==============================] - 0s 5ms/step - loss: 0.2158 - accuracy: 0.9447 - val_loss: 0.2643 - val_accuracy: 0.9006\n",
            "Epoch 24/100\n",
            "13/13 [==============================] - 0s 4ms/step - loss: 0.2098 - accuracy: 0.9472 - val_loss: 0.2578 - val_accuracy: 0.9006\n",
            "Epoch 25/100\n",
            "13/13 [==============================] - 0s 5ms/step - loss: 0.2040 - accuracy: 0.9472 - val_loss: 0.2515 - val_accuracy: 0.9006\n",
            "Epoch 26/100\n",
            "13/13 [==============================] - 0s 5ms/step - loss: 0.1982 - accuracy: 0.9472 - val_loss: 0.2457 - val_accuracy: 0.9064\n",
            "Epoch 27/100\n",
            "13/13 [==============================] - 0s 5ms/step - loss: 0.1930 - accuracy: 0.9472 - val_loss: 0.2405 - val_accuracy: 0.9064\n",
            "Epoch 28/100\n",
            "13/13 [==============================] - 0s 5ms/step - loss: 0.1882 - accuracy: 0.9472 - val_loss: 0.2354 - val_accuracy: 0.9064\n",
            "Epoch 29/100\n",
            "13/13 [==============================] - 0s 5ms/step - loss: 0.1834 - accuracy: 0.9523 - val_loss: 0.2300 - val_accuracy: 0.9064\n",
            "Epoch 30/100\n",
            "13/13 [==============================] - 0s 5ms/step - loss: 0.1789 - accuracy: 0.9523 - val_loss: 0.2255 - val_accuracy: 0.9123\n",
            "Epoch 31/100\n",
            "13/13 [==============================] - 0s 6ms/step - loss: 0.1748 - accuracy: 0.9523 - val_loss: 0.2208 - val_accuracy: 0.9181\n",
            "Epoch 32/100\n",
            "13/13 [==============================] - 0s 6ms/step - loss: 0.1708 - accuracy: 0.9523 - val_loss: 0.2165 - val_accuracy: 0.9181\n",
            "Epoch 33/100\n",
            "13/13 [==============================] - 0s 5ms/step - loss: 0.1669 - accuracy: 0.9523 - val_loss: 0.2126 - val_accuracy: 0.9181\n",
            "Epoch 34/100\n",
            "13/13 [==============================] - 0s 5ms/step - loss: 0.1632 - accuracy: 0.9523 - val_loss: 0.2082 - val_accuracy: 0.9181\n",
            "Epoch 35/100\n",
            "13/13 [==============================] - 0s 5ms/step - loss: 0.1599 - accuracy: 0.9523 - val_loss: 0.2041 - val_accuracy: 0.9181\n",
            "Epoch 36/100\n",
            "13/13 [==============================] - 0s 5ms/step - loss: 0.1565 - accuracy: 0.9548 - val_loss: 0.2007 - val_accuracy: 0.9240\n",
            "Epoch 37/100\n",
            "13/13 [==============================] - 0s 6ms/step - loss: 0.1534 - accuracy: 0.9648 - val_loss: 0.1974 - val_accuracy: 0.9240\n",
            "Epoch 38/100\n",
            "13/13 [==============================] - 0s 6ms/step - loss: 0.1505 - accuracy: 0.9698 - val_loss: 0.1943 - val_accuracy: 0.9298\n",
            "Epoch 39/100\n",
            "13/13 [==============================] - 0s 5ms/step - loss: 0.1477 - accuracy: 0.9698 - val_loss: 0.1912 - val_accuracy: 0.9357\n",
            "Epoch 40/100\n",
            "13/13 [==============================] - 0s 5ms/step - loss: 0.1452 - accuracy: 0.9698 - val_loss: 0.1880 - val_accuracy: 0.9357\n",
            "Epoch 41/100\n",
            "13/13 [==============================] - 0s 6ms/step - loss: 0.1425 - accuracy: 0.9698 - val_loss: 0.1854 - val_accuracy: 0.9357\n",
            "Epoch 42/100\n",
            "13/13 [==============================] - 0s 5ms/step - loss: 0.1402 - accuracy: 0.9698 - val_loss: 0.1826 - val_accuracy: 0.9357\n",
            "Epoch 43/100\n",
            "13/13 [==============================] - 0s 5ms/step - loss: 0.1379 - accuracy: 0.9698 - val_loss: 0.1800 - val_accuracy: 0.9357\n",
            "Epoch 44/100\n",
            "13/13 [==============================] - 0s 5ms/step - loss: 0.1356 - accuracy: 0.9698 - val_loss: 0.1777 - val_accuracy: 0.9357\n",
            "Epoch 45/100\n",
            "13/13 [==============================] - 0s 5ms/step - loss: 0.1337 - accuracy: 0.9698 - val_loss: 0.1750 - val_accuracy: 0.9357\n",
            "Epoch 46/100\n",
            "13/13 [==============================] - 0s 10ms/step - loss: 0.1315 - accuracy: 0.9698 - val_loss: 0.1730 - val_accuracy: 0.9415\n",
            "Epoch 47/100\n",
            "13/13 [==============================] - 0s 8ms/step - loss: 0.1296 - accuracy: 0.9698 - val_loss: 0.1707 - val_accuracy: 0.9415\n",
            "Epoch 48/100\n",
            "13/13 [==============================] - 0s 10ms/step - loss: 0.1277 - accuracy: 0.9698 - val_loss: 0.1689 - val_accuracy: 0.9415\n",
            "Epoch 49/100\n",
            "13/13 [==============================] - 0s 13ms/step - loss: 0.1259 - accuracy: 0.9698 - val_loss: 0.1668 - val_accuracy: 0.9415\n",
            "Epoch 50/100\n",
            "13/13 [==============================] - 0s 10ms/step - loss: 0.1242 - accuracy: 0.9724 - val_loss: 0.1650 - val_accuracy: 0.9474\n",
            "Epoch 51/100\n",
            "13/13 [==============================] - 0s 8ms/step - loss: 0.1226 - accuracy: 0.9724 - val_loss: 0.1632 - val_accuracy: 0.9474\n",
            "Epoch 52/100\n",
            "13/13 [==============================] - 0s 8ms/step - loss: 0.1210 - accuracy: 0.9724 - val_loss: 0.1611 - val_accuracy: 0.9474\n",
            "Epoch 53/100\n",
            "13/13 [==============================] - 0s 18ms/step - loss: 0.1195 - accuracy: 0.9724 - val_loss: 0.1593 - val_accuracy: 0.9474\n",
            "Epoch 54/100\n",
            "13/13 [==============================] - 0s 17ms/step - loss: 0.1181 - accuracy: 0.9724 - val_loss: 0.1575 - val_accuracy: 0.9474\n",
            "Epoch 55/100\n",
            "13/13 [==============================] - 0s 11ms/step - loss: 0.1166 - accuracy: 0.9724 - val_loss: 0.1560 - val_accuracy: 0.9474\n",
            "Epoch 56/100\n",
            "13/13 [==============================] - 0s 10ms/step - loss: 0.1153 - accuracy: 0.9724 - val_loss: 0.1546 - val_accuracy: 0.9474\n",
            "Epoch 57/100\n",
            "13/13 [==============================] - 0s 14ms/step - loss: 0.1139 - accuracy: 0.9724 - val_loss: 0.1532 - val_accuracy: 0.9474\n",
            "Epoch 58/100\n",
            "13/13 [==============================] - 0s 16ms/step - loss: 0.1127 - accuracy: 0.9749 - val_loss: 0.1521 - val_accuracy: 0.9474\n",
            "Epoch 59/100\n",
            "13/13 [==============================] - 0s 15ms/step - loss: 0.1115 - accuracy: 0.9749 - val_loss: 0.1507 - val_accuracy: 0.9532\n",
            "Epoch 60/100\n",
            "13/13 [==============================] - 0s 13ms/step - loss: 0.1103 - accuracy: 0.9749 - val_loss: 0.1494 - val_accuracy: 0.9532\n",
            "Epoch 61/100\n",
            "13/13 [==============================] - 0s 12ms/step - loss: 0.1092 - accuracy: 0.9749 - val_loss: 0.1482 - val_accuracy: 0.9532\n",
            "Epoch 62/100\n",
            "13/13 [==============================] - 0s 12ms/step - loss: 0.1082 - accuracy: 0.9749 - val_loss: 0.1469 - val_accuracy: 0.9532\n",
            "Epoch 63/100\n",
            "13/13 [==============================] - 0s 9ms/step - loss: 0.1071 - accuracy: 0.9749 - val_loss: 0.1456 - val_accuracy: 0.9532\n",
            "Epoch 64/100\n",
            "13/13 [==============================] - 0s 15ms/step - loss: 0.1061 - accuracy: 0.9749 - val_loss: 0.1444 - val_accuracy: 0.9532\n",
            "Epoch 65/100\n",
            "13/13 [==============================] - 0s 15ms/step - loss: 0.1050 - accuracy: 0.9749 - val_loss: 0.1434 - val_accuracy: 0.9532\n",
            "Epoch 66/100\n",
            "13/13 [==============================] - 0s 27ms/step - loss: 0.1041 - accuracy: 0.9799 - val_loss: 0.1424 - val_accuracy: 0.9532\n",
            "Epoch 67/100\n",
            "13/13 [==============================] - 0s 14ms/step - loss: 0.1032 - accuracy: 0.9799 - val_loss: 0.1414 - val_accuracy: 0.9532\n",
            "Epoch 68/100\n",
            "13/13 [==============================] - 0s 7ms/step - loss: 0.1023 - accuracy: 0.9799 - val_loss: 0.1402 - val_accuracy: 0.9532\n",
            "Epoch 69/100\n",
            "13/13 [==============================] - 0s 7ms/step - loss: 0.1015 - accuracy: 0.9799 - val_loss: 0.1390 - val_accuracy: 0.9532\n",
            "Epoch 70/100\n",
            "13/13 [==============================] - 0s 7ms/step - loss: 0.1006 - accuracy: 0.9799 - val_loss: 0.1383 - val_accuracy: 0.9532\n",
            "Epoch 71/100\n",
            "13/13 [==============================] - 0s 7ms/step - loss: 0.0997 - accuracy: 0.9799 - val_loss: 0.1371 - val_accuracy: 0.9532\n",
            "Epoch 72/100\n",
            "13/13 [==============================] - 0s 7ms/step - loss: 0.0989 - accuracy: 0.9799 - val_loss: 0.1362 - val_accuracy: 0.9532\n",
            "Epoch 73/100\n",
            "13/13 [==============================] - 0s 8ms/step - loss: 0.0981 - accuracy: 0.9799 - val_loss: 0.1349 - val_accuracy: 0.9532\n",
            "Epoch 74/100\n",
            "13/13 [==============================] - 0s 8ms/step - loss: 0.0973 - accuracy: 0.9799 - val_loss: 0.1340 - val_accuracy: 0.9532\n",
            "Epoch 75/100\n",
            "13/13 [==============================] - 0s 7ms/step - loss: 0.0966 - accuracy: 0.9799 - val_loss: 0.1332 - val_accuracy: 0.9532\n",
            "Epoch 76/100\n",
            "13/13 [==============================] - 0s 8ms/step - loss: 0.0958 - accuracy: 0.9799 - val_loss: 0.1324 - val_accuracy: 0.9532\n",
            "Epoch 77/100\n",
            "13/13 [==============================] - 0s 8ms/step - loss: 0.0951 - accuracy: 0.9799 - val_loss: 0.1315 - val_accuracy: 0.9532\n",
            "Epoch 78/100\n",
            "13/13 [==============================] - 0s 6ms/step - loss: 0.0945 - accuracy: 0.9799 - val_loss: 0.1308 - val_accuracy: 0.9532\n",
            "Epoch 79/100\n",
            "13/13 [==============================] - 0s 5ms/step - loss: 0.0937 - accuracy: 0.9799 - val_loss: 0.1299 - val_accuracy: 0.9532\n",
            "Epoch 80/100\n",
            "13/13 [==============================] - 0s 5ms/step - loss: 0.0931 - accuracy: 0.9799 - val_loss: 0.1292 - val_accuracy: 0.9532\n",
            "Epoch 81/100\n",
            "13/13 [==============================] - 0s 4ms/step - loss: 0.0925 - accuracy: 0.9799 - val_loss: 0.1285 - val_accuracy: 0.9532\n",
            "Epoch 82/100\n",
            "13/13 [==============================] - 0s 6ms/step - loss: 0.0919 - accuracy: 0.9799 - val_loss: 0.1277 - val_accuracy: 0.9532\n",
            "Epoch 83/100\n",
            "13/13 [==============================] - 0s 5ms/step - loss: 0.0913 - accuracy: 0.9799 - val_loss: 0.1270 - val_accuracy: 0.9591\n",
            "Epoch 84/100\n",
            "13/13 [==============================] - 0s 5ms/step - loss: 0.0907 - accuracy: 0.9799 - val_loss: 0.1263 - val_accuracy: 0.9649\n",
            "Epoch 85/100\n",
            "13/13 [==============================] - 0s 6ms/step - loss: 0.0901 - accuracy: 0.9799 - val_loss: 0.1256 - val_accuracy: 0.9649\n",
            "Epoch 86/100\n",
            "13/13 [==============================] - 0s 5ms/step - loss: 0.0895 - accuracy: 0.9824 - val_loss: 0.1251 - val_accuracy: 0.9649\n",
            "Epoch 87/100\n",
            "13/13 [==============================] - 0s 6ms/step - loss: 0.0890 - accuracy: 0.9799 - val_loss: 0.1246 - val_accuracy: 0.9591\n",
            "Epoch 88/100\n",
            "13/13 [==============================] - 0s 5ms/step - loss: 0.0885 - accuracy: 0.9824 - val_loss: 0.1239 - val_accuracy: 0.9591\n",
            "Epoch 89/100\n",
            "13/13 [==============================] - 0s 5ms/step - loss: 0.0879 - accuracy: 0.9824 - val_loss: 0.1234 - val_accuracy: 0.9649\n",
            "Epoch 90/100\n",
            "13/13 [==============================] - 0s 5ms/step - loss: 0.0874 - accuracy: 0.9824 - val_loss: 0.1229 - val_accuracy: 0.9649\n",
            "Epoch 91/100\n",
            "13/13 [==============================] - 0s 6ms/step - loss: 0.0869 - accuracy: 0.9824 - val_loss: 0.1222 - val_accuracy: 0.9649\n",
            "Epoch 92/100\n",
            "13/13 [==============================] - 0s 5ms/step - loss: 0.0864 - accuracy: 0.9824 - val_loss: 0.1216 - val_accuracy: 0.9649\n",
            "Epoch 93/100\n",
            "13/13 [==============================] - 0s 6ms/step - loss: 0.0859 - accuracy: 0.9824 - val_loss: 0.1211 - val_accuracy: 0.9649\n",
            "Epoch 94/100\n",
            "13/13 [==============================] - 0s 5ms/step - loss: 0.0855 - accuracy: 0.9824 - val_loss: 0.1207 - val_accuracy: 0.9591\n",
            "Epoch 95/100\n",
            "13/13 [==============================] - 0s 6ms/step - loss: 0.0850 - accuracy: 0.9824 - val_loss: 0.1201 - val_accuracy: 0.9708\n",
            "Epoch 96/100\n",
            "13/13 [==============================] - 0s 5ms/step - loss: 0.0845 - accuracy: 0.9824 - val_loss: 0.1196 - val_accuracy: 0.9708\n",
            "Epoch 97/100\n",
            "13/13 [==============================] - 0s 5ms/step - loss: 0.0841 - accuracy: 0.9824 - val_loss: 0.1191 - val_accuracy: 0.9766\n",
            "Epoch 98/100\n",
            "13/13 [==============================] - 0s 5ms/step - loss: 0.0837 - accuracy: 0.9824 - val_loss: 0.1187 - val_accuracy: 0.9766\n",
            "Epoch 99/100\n",
            "13/13 [==============================] - 0s 6ms/step - loss: 0.0833 - accuracy: 0.9824 - val_loss: 0.1181 - val_accuracy: 0.9766\n",
            "Epoch 100/100\n",
            "13/13 [==============================] - 0s 5ms/step - loss: 0.0828 - accuracy: 0.9824 - val_loss: 0.1176 - val_accuracy: 0.9766\n"
          ]
        }
      ]
    },
    {
      "cell_type": "code",
      "source": [
        "# to get the final result\n",
        "print(\"Train score:\",model.evaluate(X_train,y_train))\n",
        "print(\"Test score:\",model.evaluate(X_test,y_test))"
      ],
      "metadata": {
        "colab": {
          "base_uri": "https://localhost:8080/"
        },
        "id": "AyHOcsjhOS3Q",
        "outputId": "1789b651-e859-4266-ae90-35b5ae443afb"
      },
      "execution_count": null,
      "outputs": [
        {
          "output_type": "stream",
          "name": "stdout",
          "text": [
            "13/13 [==============================] - 0s 2ms/step - loss: 0.0826 - accuracy: 0.9824\n",
            "Train score: [0.08255396783351898, 0.9824120402336121]\n",
            "6/6 [==============================] - 0s 2ms/step - loss: 0.1176 - accuracy: 0.9766\n",
            "Test score: [0.11760083585977554, 0.9766082167625427]\n"
          ]
        }
      ]
    },
    {
      "cell_type": "code",
      "source": [
        "import matplotlib.pyplot as plt\n",
        "plt.plot(r.history['loss'],label=\"loss\")\n",
        "plt.plot(r.history['val_loss'],label=\"val_loss\")\n",
        "plt.legend();"
      ],
      "metadata": {
        "colab": {
          "base_uri": "https://localhost:8080/",
          "height": 430
        },
        "id": "KQErLoyeQFcu",
        "outputId": "9aa02667-e63d-433e-bc04-350c65dd9bba"
      },
      "execution_count": null,
      "outputs": [
        {
          "output_type": "display_data",
          "data": {
            "text/plain": [
              "<Figure size 640x480 with 1 Axes>"
            ],
            "image/png": "[encoded data removed]"
          },
          "metadata": {}
        }
      ]
    },
    {
      "cell_type": "code",
      "source": [
        "plt.plot(r.history[\"accuracy\"],label='acc')\n",
        "plt.plot(r.history[\"val_accuracy\"],label='val_accuracy')\n",
        "plt.legend();"
      ],
      "metadata": {
        "id": "xmrESMSPY491",
        "colab": {
          "base_uri": "https://localhost:8080/",
          "height": 430
        },
        "outputId": "ccb0702c-89bc-4aec-e878-6f0ff7a27587"
      },
      "execution_count": 74,
      "outputs": [
        {
          "output_type": "display_data",
          "data": {
            "text/plain": [
              "<Figure size 640x480 with 1 Axes>"
            ],
            "image/png": "[encoded data removed]"
          },
          "metadata": {}
        }
      ]
    },
    {
      "cell_type": "code",
      "source": [],
      "metadata": {
        "id": "4STqSDSJf7SC"
      },
      "execution_count": null,
      "outputs": []
    }
  ]
}